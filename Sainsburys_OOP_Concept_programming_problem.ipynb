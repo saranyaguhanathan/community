{
  "nbformat": 4,
  "nbformat_minor": 0,
  "metadata": {
    "colab": {
      "provenance": [],
      "authorship_tag": "ABX9TyPJsDHJEQfJv4JUWIUoQGeJ",
      "include_colab_link": true
    },
    "kernelspec": {
      "name": "python3",
      "display_name": "Python 3"
    },
    "language_info": {
      "name": "python"
    }
  },
  "cells": [
    {
      "cell_type": "markdown",
      "metadata": {
        "id": "view-in-github",
        "colab_type": "text"
      },
      "source": [
        "<a href=\"https://colab.research.google.com/github/saranyaguhanathan/community/blob/main/Sainsburys_OOP_Concept_programming_problem.ipynb\" target=\"_parent\"><img src=\"https://colab.research.google.com/assets/colab-badge.svg\" alt=\"Open In Colab\"/></a>"
      ]
    },
    {
      "cell_type": "markdown",
      "source": [
        "PROBLEM STATEMENT:\n",
        "\n",
        "product_names=[\"apples\",\"oranges\",\"bananas\"]\n",
        "quantities=[1,2,1]\n",
        "price=[5,3,1]\n",
        "discount=10%\n",
        "delivery_fee=5\n",
        "\n",
        "We have to calculate total cost of each fruits after appropriate discount.\n",
        "Total cost of fruits calculted as total price(quatities*price) minus discount plus delivery cost\n",
        "\n",
        "final result - total cost will be precision with to 2 decimal points."
      ],
      "metadata": {
        "id": "zgkX0JgMa3V2"
      }
    },
    {
      "cell_type": "code",
      "source": [
        "# using multiple list and zip function\n",
        "product_names=[\"apples\",\"oranges\",\"bananas\"]\n",
        "quantities=[1,2,1]\n",
        "price=[5,3,1]\n",
        "discount=0.10\n",
        "delivery_fee=5\n",
        "total_cost=[]\n",
        "x=[]\n",
        "for i in range(len(price)):\n",
        "  a=((quantities[i]*price[i])-((quantities[i]*price[i])*discount)+delivery_fee)\n",
        "  total_cost.append(a)\n",
        "print(\"\")\n",
        "print(\"***Cost of fruits***\")\n",
        "print(\"\")\n",
        "for i,j in zip(product_names,total_cost):\n",
        "  print(i,\"%.2f\"%j)"
      ],
      "metadata": {
        "colab": {
          "base_uri": "https://localhost:8080/"
        },
        "id": "wwiID720Lb4-",
        "outputId": "273a0adb-9e04-495c-9b0a-a399765390d9"
      },
      "execution_count": 31,
      "outputs": [
        {
          "output_type": "stream",
          "name": "stdout",
          "text": [
            "\n",
            "***Cost of fruits***\n",
            "\n",
            "apples 9.50\n",
            "oranges 10.40\n",
            "bananas 5.90\n"
          ]
        }
      ]
    },
    {
      "cell_type": "code",
      "source": [
        "# Implemented using class with static(given) input\n",
        "\n",
        "class fruits():\n",
        "\n",
        "  def __init__(self,product_names,quantities,price,discount,delivery_fee):\n",
        "    self.product_names=product_names\n",
        "    self.quantities=quantities\n",
        "    self.price=price\n",
        "    self.discount=discount\n",
        "    self.delivery_fee=delivery_fee\n",
        "\n",
        "  def total_cost(self):\n",
        "    for i in range(len(price)):\n",
        "      a=((quantities[i]*price[i])-((quantities[i]*price[i])*discount)+delivery_fee)\n",
        "      total_cost.append(a)\n",
        "    print(\"\")\n",
        "    print(\"***Cost of fruits***\")\n",
        "    print(\"\")\n",
        "    for i,j in zip(product_names,total_cost):\n",
        "      print(i,\"%.2f\"%j)\n",
        "\n",
        "product_names=[\"apples\",\"oranges\",\"bananas\"]\n",
        "quantities=[5,3,10]\n",
        "price=[1,2,1]\n",
        "discount=0.1\n",
        "delivery_fee=5\n",
        "total_cost=[]\n",
        "# creating instance for class fruits\n",
        "f=fruits(product_names,quantities,price,discount,delivery_fee)\n",
        "\n",
        "# calling the method\n",
        "f.total_cost()"
      ],
      "metadata": {
        "colab": {
          "base_uri": "https://localhost:8080/"
        },
        "id": "aB9B2cSrP3pH",
        "outputId": "3fbc816e-1a30-4e83-87d1-6b77d4a31584"
      },
      "execution_count": 32,
      "outputs": [
        {
          "output_type": "stream",
          "name": "stdout",
          "text": [
            "\n",
            "***Cost of fruits***\n",
            "\n",
            "apples 9.50\n",
            "oranges 10.40\n",
            "bananas 14.00\n"
          ]
        }
      ]
    },
    {
      "cell_type": "code",
      "source": [
        "# Implemented using class with dynamic(run-time) input\n",
        "\n",
        "class fruits():\n",
        "  def __init__(self,varities,quantities,price,discount,delivery_fee):\n",
        "    self.varities=varities\n",
        "    self.quantities=quantities\n",
        "    self.price=price\n",
        "    self.discount=discount\n",
        "    self.delivery_fee=delivery_fee\n",
        "  def total_cost(self):\n",
        "    for i in range(len(price)):\n",
        "      a=((quantities[i]*price[i])-((quantities[i]*price[i])*0.10)+delivery_fee)\n",
        "      total_cost.append(a)\n",
        "    print(\"\")\n",
        "    print(\"***Cost of fruits***\")\n",
        "    print(\"\")\n",
        "    for i,j in zip(product_names,total_cost):\n",
        "      print(i,\"%.2f\"%j)\n",
        "\n",
        "# getting all the list dynamically\n",
        "product_names=list(map(str,input().split()))\n",
        "quantities=list(map(int,input().split()))\n",
        "price=list(map(int,input().split()))\n",
        "\n",
        "#product_names=[\"apples\",\"oranges\",\"banana\"]\n",
        "#quantities=[5,3,10]\n",
        "#price=[1,2,1]\n",
        "discount=0.1\n",
        "delivery_fee=5\n",
        "total_cost=[]\n",
        "\n",
        "f=fruits(product_names,quantities,price,discount,delivery_fee)\n",
        "f.total_cost()\n"
      ],
      "metadata": {
        "colab": {
          "base_uri": "https://localhost:8080/"
        },
        "id": "ETRVACp9UQXO",
        "outputId": "b47c0c0f-fe96-496e-a010-b70778f4e3fe"
      },
      "execution_count": 33,
      "outputs": [
        {
          "output_type": "stream",
          "name": "stdout",
          "text": [
            "apples oranges bananas\n",
            "5 3 10\n",
            "1 2 1\n",
            "\n",
            "***Cost of fruits***\n",
            "\n",
            "apples 9.50\n",
            "oranges 10.40\n",
            "bananas 14.00\n"
          ]
        }
      ]
    },
    {
      "cell_type": "code",
      "source": [],
      "metadata": {
        "id": "TuYnLf7VMKwW"
      },
      "execution_count": null,
      "outputs": []
    }
  ]
}